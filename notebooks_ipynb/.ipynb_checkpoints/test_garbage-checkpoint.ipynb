{
 "cells": [
  {
   "cell_type": "code",
   "execution_count": 1,
   "id": "dd0762b9-6bfb-4e7e-8dbe-1e67c801012f",
   "metadata": {
    "tags": []
   },
   "outputs": [],
   "source": [
    "import random"
   ]
  },
  {
   "cell_type": "code",
   "execution_count": 187,
   "id": "bfc04378-1e28-430a-a921-28cb5f6dd647",
   "metadata": {
    "tags": []
   },
   "outputs": [
    {
     "data": {
      "text/plain": [
       "[4, 3, 2]"
      ]
     },
     "execution_count": 187,
     "metadata": {},
     "output_type": "execute_result"
    }
   ],
   "source": [
    "random.choices(population=[1, 2, 3, 4, 100, 1000],\n",
    "               weights=[0.001, 0.2, 0.2, 0.2, 0.1, 0.1],\n",
    "               k=3)"
   ]
  },
  {
   "cell_type": "code",
   "execution_count": null,
   "id": "22317ff4-ffa6-4112-95b9-93271a4ed8b2",
   "metadata": {},
   "outputs": [],
   "source": []
  }
 ],
 "metadata": {
  "kernelspec": {
   "display_name": "Python 3 (ipykernel)",
   "language": "python",
   "name": "python3"
  },
  "language_info": {
   "codemirror_mode": {
    "name": "ipython",
    "version": 3
   },
   "file_extension": ".py",
   "mimetype": "text/x-python",
   "name": "python",
   "nbconvert_exporter": "python",
   "pygments_lexer": "ipython3",
   "version": "3.10.10"
  }
 },
 "nbformat": 4,
 "nbformat_minor": 5
}

{
 "cells": [
  {
   "cell_type": "code",
   "execution_count": 20,
   "id": "cb62b8aa-fa6a-4ca7-83d5-3301bc51f92b",
   "metadata": {
    "tags": []
   },
   "outputs": [
    {
     "name": "stdout",
     "output_type": "stream",
     "text": [
      "None\n",
      "0 2 {2: 0}\n",
      "0\n",
      "1 7 {2: 0, 7: 1}\n",
      "None\n",
      "2 11 {2: 0, 7: 1, 11: 2}\n",
      "None\n",
      "3 15 {2: 0, 7: 1, 11: 2, 15: 3}\n"
     ]
    }
   ],
   "source": [
    "nums = [2,7,11,15]\n",
    "target = 9\n",
    "dct = {}\n",
    "for i, j in enumerate(nums):\n",
    "    print(dct.get(target-j))\n",
    "    if dct.get(target - j):\n",
    "        print([i, dct[target - j]])\n",
    "    dct[j] = i\n",
    "    print(i, j, dct)"
   ]
  },
  {
   "cell_type": "code",
   "execution_count": 16,
   "id": "85d0c12b-deb7-4fac-a298-ff25f7c14896",
   "metadata": {
    "tags": []
   },
   "outputs": [
    {
     "data": {
      "text/plain": [
       "{2: 0, 7: 1, 11: 2, 15: 3}"
      ]
     },
     "execution_count": 16,
     "metadata": {},
     "output_type": "execute_result"
    }
   ],
   "source": [
    "dct"
   ]
  },
  {
   "cell_type": "code",
   "execution_count": 25,
   "id": "e41f1500-6fc2-4f5d-86a0-eb87ca03a245",
   "metadata": {
    "tags": []
   },
   "outputs": [
    {
     "name": "stdout",
     "output_type": "stream",
     "text": [
      "5\n"
     ]
    }
   ],
   "source": [
    "if dct.get(2) is not None:\n",
    "    print(5)"
   ]
  },
  {
   "cell_type": "code",
   "execution_count": 26,
   "id": "7e9d01f0-75e9-4026-b9b1-621aea57559b",
   "metadata": {
    "tags": []
   },
   "outputs": [],
   "source": [
    "a = 'test'\n",
    "b = 'test'"
   ]
  },
  {
   "cell_type": "code",
   "execution_count": 27,
   "id": "2e3db673-ecca-4bf1-9359-1ad6352da715",
   "metadata": {
    "tags": []
   },
   "outputs": [
    {
     "data": {
      "text/plain": [
       "True"
      ]
     },
     "execution_count": 27,
     "metadata": {},
     "output_type": "execute_result"
    }
   ],
   "source": [
    "a == b"
   ]
  },
  {
   "cell_type": "code",
   "execution_count": 28,
   "id": "0e6578ab-7e16-409c-aa18-68b37628821c",
   "metadata": {
    "tags": []
   },
   "outputs": [
    {
     "data": {
      "text/plain": [
       "True"
      ]
     },
     "execution_count": 28,
     "metadata": {},
     "output_type": "execute_result"
    }
   ],
   "source": [
    "a is b"
   ]
  },
  {
   "cell_type": "code",
   "execution_count": 29,
   "id": "ec7be3c3-31da-4fac-9a9e-d472b26c2c8c",
   "metadata": {
    "tags": []
   },
   "outputs": [
    {
     "data": {
      "text/plain": [
       "1923268988336"
      ]
     },
     "execution_count": 29,
     "metadata": {},
     "output_type": "execute_result"
    }
   ],
   "source": [
    "id(a)"
   ]
  },
  {
   "cell_type": "code",
   "execution_count": 30,
   "id": "fdb9781d-3196-4c95-aa1e-8fd2788599db",
   "metadata": {
    "tags": []
   },
   "outputs": [
    {
     "data": {
      "text/plain": [
       "1923268988336"
      ]
     },
     "execution_count": 30,
     "metadata": {},
     "output_type": "execute_result"
    }
   ],
   "source": [
    "id(b)"
   ]
  },
  {
   "cell_type": "code",
   "execution_count": 33,
   "id": "099d783a-8987-4554-8434-bf780dc0d5c5",
   "metadata": {
    "tags": []
   },
   "outputs": [
    {
     "data": {
      "text/plain": [
       "False"
      ]
     },
     "execution_count": 33,
     "metadata": {},
     "output_type": "execute_result"
    }
   ],
   "source": [
    "a = 'test asdf asdf asdf'\n",
    "b = 'test asdf asdf asdf'\n",
    "a is b"
   ]
  },
  {
   "cell_type": "code",
   "execution_count": 34,
   "id": "04770181-1fb6-416d-9ea9-2023bf8e0afd",
   "metadata": {
    "tags": []
   },
   "outputs": [
    {
     "data": {
      "text/plain": [
       "True"
      ]
     },
     "execution_count": 34,
     "metadata": {},
     "output_type": "execute_result"
    }
   ],
   "source": [
    "None is None"
   ]
  },
  {
   "cell_type": "code",
   "execution_count": 35,
   "id": "c878c911-3c43-491d-91bc-f0f6ff5333c6",
   "metadata": {
    "tags": []
   },
   "outputs": [
    {
     "data": {
      "text/plain": [
       "True"
      ]
     },
     "execution_count": 35,
     "metadata": {},
     "output_type": "execute_result"
    }
   ],
   "source": [
    "None == None"
   ]
  },
  {
   "cell_type": "code",
   "execution_count": null,
   "id": "b2cd281e-a1e9-4819-98d4-69dbe4943e80",
   "metadata": {},
   "outputs": [],
   "source": []
  }
 ],
 "metadata": {
  "kernelspec": {
   "display_name": "Python 3 (ipykernel)",
   "language": "python",
   "name": "python3"
  },
  "language_info": {
   "codemirror_mode": {
    "name": "ipython",
    "version": 3
   },
   "file_extension": ".py",
   "mimetype": "text/x-python",
   "name": "python",
   "nbconvert_exporter": "python",
   "pygments_lexer": "ipython3",
   "version": "3.10.10"
  }
 },
 "nbformat": 4,
 "nbformat_minor": 5
}

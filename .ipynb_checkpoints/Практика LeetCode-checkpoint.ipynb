{
 "cells": [
  {
   "cell_type": "markdown",
   "metadata": {},
   "source": [
    "### Инициализация односвязного списка, через определение ListNode в Питоне."
   ]
  },
  {
   "cell_type": "code",
   "execution_count": 77,
   "metadata": {},
   "outputs": [
    {
     "name": "stdout",
     "output_type": "stream",
     "text": [
      "1\n",
      "2\n",
      "3\n",
      "4\n",
      "5\n",
      "6\n"
     ]
    }
   ],
   "source": [
    "# Инициализация односвязного списка, через определение ListNode в Питоне.\n",
    "class ListNode:\n",
    "    def __init__(self, val=0, next=None):\n",
    "        self.val = val\n",
    "        self.next = next\n",
    "        \n",
    "node1 = ListNode(1)\n",
    "node2 = ListNode(2)\n",
    "node3 = ListNode(3)\n",
    "node4 = ListNode(4)\n",
    "node5 = ListNode(5)\n",
    "node6 = ListNode(6)\n",
    "\n",
    "node1.next = node2\n",
    "node2.next = node3\n",
    "node3.next = node4\n",
    "node4.next = node5\n",
    "node5.next = node6\n",
    "\n",
    "head = node1\n",
    "while head:\n",
    "    print(head.val)\n",
    "    head = head.next"
   ]
  },
  {
   "cell_type": "markdown",
   "metadata": {},
   "source": [
    "### Задача №876 из LeetCode. Полностью с инициализацием односвязного списка (как там написано)."
   ]
  },
  {
   "cell_type": "code",
   "execution_count": 2,
   "metadata": {},
   "outputs": [
    {
     "data": {
      "text/plain": [
       "4"
      ]
     },
     "execution_count": 2,
     "metadata": {},
     "output_type": "execute_result"
    }
   ],
   "source": [
    "#Задача 876 из LeetCode. Полностью с инициализацием односвязного списка (как там написано).\n",
    "\n",
    "# Definition for singly-linked list.\n",
    "class ListNode:\n",
    "    def __init__(self, val=0, next=None):\n",
    "        self.val = val\n",
    "        self.next = next\n",
    "        \n",
    "node1 = ListNode(1)\n",
    "node2 = ListNode(2)\n",
    "node3 = ListNode(3)\n",
    "node4 = ListNode(4)\n",
    "node5 = ListNode(5)\n",
    "node6 = ListNode(6)\n",
    "\n",
    "node1.next = node2\n",
    "node2.next = node3\n",
    "node3.next = node4\n",
    "node4.next = node5\n",
    "node5.next = node6\n",
    "\n",
    "head = node1\n",
    "\n",
    "def middleNode(head):\n",
    "    slow = fast = head #Floyd's cycle-finding algorithm. \n",
    "    while fast and fast.next:\n",
    "        fast = fast.next.next\n",
    "        slow = slow.next\n",
    "    return slow.val\n",
    "\n",
    "middleNode(head)"
   ]
  },
  {
   "cell_type": "code",
   "execution_count": 3,
   "metadata": {},
   "outputs": [
    {
     "name": "stdout",
     "output_type": "stream",
     "text": [
      "None\n"
     ]
    }
   ],
   "source": [
    "#К предыдущей задаче. Небольшое разъяснение по поводу того, почему head может быть None.\n",
    "# Definition for singly-linked list.\n",
    "class ListNode:\n",
    "    def __init__(self, val=0, next=None):\n",
    "        self.val = val\n",
    "        self.next = next\n",
    "        \n",
    "node1 = ListNode(1)\n",
    "node2 = ListNode(2)\n",
    "\n",
    "node1.next = node2\n",
    "\n",
    "head = node1\n",
    "\n",
    "print(head.next.next)"
   ]
  },
  {
   "cell_type": "markdown",
   "metadata": {},
   "source": [
    "### Задача №19 из LeetCode"
   ]
  },
  {
   "cell_type": "code",
   "execution_count": 78,
   "metadata": {},
   "outputs": [
    {
     "name": "stdout",
     "output_type": "stream",
     "text": [
      "1\n",
      "2\n",
      "3\n",
      "5\n",
      "6\n"
     ]
    }
   ],
   "source": [
    "head = node1\n",
    "def RemoveNode(head, n):\n",
    "    len_list = 0\n",
    "    node = head\n",
    "    while node:\n",
    "        len_list += 1\n",
    "        node = node.next\n",
    "\n",
    "    counter = 1\n",
    "\n",
    "    result = ListNode(0)\n",
    "    result.next = head\n",
    "    \n",
    "    current = result\n",
    "    while current:\n",
    "        if counter == (len_list - n + 1):\n",
    "            current.next = current.next.next\n",
    "        if counter == (len_list - n + 1) and counter == len_list:\n",
    "            current.next = None\n",
    "        current = current.next\n",
    "        counter += 1\n",
    "        \n",
    "    return result.next\n",
    "\n",
    "s = RemoveNode(head, 3)\n",
    "\n",
    "#print(s)\n",
    "\n",
    "while s:\n",
    "    print(s.val)\n",
    "    s = s.next"
   ]
  },
  {
   "cell_type": "code",
   "execution_count": 88,
   "metadata": {},
   "outputs": [
    {
     "name": "stdout",
     "output_type": "stream",
     "text": [
      "{'a': 0, 'c': 0, 'd': 0, 'f': 0, 'j': 0, 'k': 0, 'l': 0, 'u': 0}\n",
      "{'a': 2, 'c': 1, 'd': 1, 'f': 1, 'j': 1, 'k': 1, 'l': 1, 'u': 1}\n"
     ]
    }
   ],
   "source": [
    "s = 'acdfajklu'\n",
    "valid_dict = {s[i]:0 for i in range(len(s))}\n",
    "\n",
    "path = {'start':0, 'stop':0, 'len_sub':0}\n",
    "\n",
    "print(valid_dict)\n",
    "start = 0\n",
    "stop = 0\n",
    "for i,j in enumerate(s):\n",
    "    valid_dict[j] += 1\n",
    "    if valid_dict[j] == 1:\n",
    "        stop += 1\n",
    "    if valid_dict[j] > 1:\n",
    "        \n",
    "        if path['len_sub'] < stop - start + 1:\n",
    "            path['start'] = start\n",
    "            path['stop'] = stop\n",
    "            path['len_sub'] = stop - start + 1\n",
    "                \n",
    "        start += 1\n",
    "        stop += 1\n",
    "        \n",
    "\n",
    "    "
   ]
  },
  {
   "cell_type": "code",
   "execution_count": 89,
   "metadata": {},
   "outputs": [
    {
     "data": {
      "text/plain": [
       "9"
      ]
     },
     "execution_count": 89,
     "metadata": {},
     "output_type": "execute_result"
    }
   ],
   "source": [
    "def longestUniqueSubsttr(string):\n",
    " \n",
    "    # last index of every character\n",
    "    last_idx = {}\n",
    "    max_len = 0\n",
    " \n",
    "    # starting index of current\n",
    "    # window to calculate max_len\n",
    "    start_idx = 0\n",
    " \n",
    "    for i in range(0, len(string)):\n",
    "       \n",
    "        # Find the last index of str[i]\n",
    "        # Update start_idx (starting index of current window)\n",
    "        # as maximum of current value of start_idx and last\n",
    "        # index plus 1\n",
    "        if string[i] in last_idx:\n",
    "            start_idx = max(start_idx, last_idx[string[i]] + 1)\n",
    " \n",
    "        # Update result if we get a larger window\n",
    "        max_len = max(max_len, i-start_idx + 1)\n",
    " \n",
    "        # Update last index of current char.\n",
    "        last_idx[string[i]] = i\n",
    " \n",
    "    return max_len\n",
    "\n",
    "longestUniqueSubsttr('Папа ушел за хлебом')"
   ]
  },
  {
   "cell_type": "code",
   "execution_count": 90,
   "metadata": {},
   "outputs": [
    {
     "ename": "KeyError",
     "evalue": "'А'",
     "output_type": "error",
     "traceback": [
      "\u001b[1;31m---------------------------------------------------------------------------\u001b[0m",
      "\u001b[1;31mKeyError\u001b[0m                                  Traceback (most recent call last)",
      "\u001b[1;32m<ipython-input-90-d84e968bcbf3>\u001b[0m in \u001b[0;36m<module>\u001b[1;34m\u001b[0m\n\u001b[0;32m      1\u001b[0m \u001b[0mlast_idx\u001b[0m \u001b[1;33m=\u001b[0m \u001b[1;33m{\u001b[0m\u001b[1;33m}\u001b[0m\u001b[1;33m\u001b[0m\u001b[1;33m\u001b[0m\u001b[0m\n\u001b[1;32m----> 2\u001b[1;33m \u001b[0mprint\u001b[0m\u001b[1;33m(\u001b[0m\u001b[0mlast_idx\u001b[0m\u001b[1;33m[\u001b[0m\u001b[1;34m'А'\u001b[0m\u001b[1;33m]\u001b[0m \u001b[1;33m+\u001b[0m \u001b[1;36m1\u001b[0m\u001b[1;33m)\u001b[0m\u001b[1;33m\u001b[0m\u001b[1;33m\u001b[0m\u001b[0m\n\u001b[0m\u001b[0;32m      3\u001b[0m \u001b[1;33m\u001b[0m\u001b[0m\n",
      "\u001b[1;31mKeyError\u001b[0m: 'А'"
     ]
    }
   ],
   "source": [
    "last_idx = {}\n",
    "print(last_idx['А'] + 1)\n",
    "\n"
   ]
  }
 ],
 "metadata": {
  "kernelspec": {
   "display_name": "Python 3",
   "language": "python",
   "name": "python3"
  },
  "language_info": {
   "codemirror_mode": {
    "name": "ipython",
    "version": 3
   },
   "file_extension": ".py",
   "mimetype": "text/x-python",
   "name": "python",
   "nbconvert_exporter": "python",
   "pygments_lexer": "ipython3",
   "version": "3.8.5"
  }
 },
 "nbformat": 4,
 "nbformat_minor": 4
}
